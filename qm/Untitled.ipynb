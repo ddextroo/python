{
 "cells": [
  {
   "cell_type": "code",
   "execution_count": 1,
   "id": "52294f78-2c83-4568-87ab-e53158757563",
   "metadata": {},
   "outputs": [
    {
     "data": {
      "text/html": [
       "<div>\n",
       "<style scoped>\n",
       "    .dataframe tbody tr th:only-of-type {\n",
       "        vertical-align: middle;\n",
       "    }\n",
       "\n",
       "    .dataframe tbody tr th {\n",
       "        vertical-align: top;\n",
       "    }\n",
       "\n",
       "    .dataframe thead th {\n",
       "        text-align: right;\n",
       "    }\n",
       "</style>\n",
       "<table border=\"1\" class=\"dataframe\">\n",
       "  <thead>\n",
       "    <tr style=\"text-align: right;\">\n",
       "      <th></th>\n",
       "      <th>Source</th>\n",
       "      <th>SS</th>\n",
       "      <th>DF</th>\n",
       "      <th>F</th>\n",
       "      <th>p-unc</th>\n",
       "      <th>np2</th>\n",
       "    </tr>\n",
       "  </thead>\n",
       "  <tbody>\n",
       "    <tr>\n",
       "      <th>0</th>\n",
       "      <td>methodology</td>\n",
       "      <td>387.510992</td>\n",
       "      <td>2</td>\n",
       "      <td>6.005703</td>\n",
       "      <td>0.025542</td>\n",
       "      <td>0.600228</td>\n",
       "    </tr>\n",
       "    <tr>\n",
       "      <th>1</th>\n",
       "      <td>current_grade</td>\n",
       "      <td>1.404669</td>\n",
       "      <td>1</td>\n",
       "      <td>0.043540</td>\n",
       "      <td>0.839927</td>\n",
       "      <td>0.005413</td>\n",
       "    </tr>\n",
       "    <tr>\n",
       "      <th>2</th>\n",
       "      <td>Residual</td>\n",
       "      <td>258.095331</td>\n",
       "      <td>8</td>\n",
       "      <td>NaN</td>\n",
       "      <td>NaN</td>\n",
       "      <td>NaN</td>\n",
       "    </tr>\n",
       "  </tbody>\n",
       "</table>\n",
       "</div>"
      ],
      "text/plain": [
       "          Source          SS  DF         F     p-unc       np2\n",
       "0    methodology  387.510992   2  6.005703  0.025542  0.600228\n",
       "1  current_grade    1.404669   1  0.043540  0.839927  0.005413\n",
       "2       Residual  258.095331   8       NaN       NaN       NaN"
      ]
     },
     "execution_count": 1,
     "metadata": {},
     "output_type": "execute_result"
    }
   ],
   "source": [
    "from pingouin import ancova\n",
    "import pandas as pd\n",
    "import numpy as np\n",
    "\n",
    "data = pd.DataFrame({'methodology': np.repeat(['A', 'B', 'C'], 4),\n",
    "\t\t\t\t\t'current_grade': [67, 88, 75, 85,\n",
    "\t\t\t\t\t\t\t\t\t92, 77, 74, 88,\n",
    "\t\t\t\t\t\t\t\t\t91, 88, 82, 80],\n",
    "\t\t\t\t\t'test_score': [77, 89, 74, 69,\n",
    "\t\t\t\t\t\t\t\t\t88, 93, 94, 90,\n",
    "\t\t\t\t\t\t\t\t\t85, 81, 83, 79]})\n",
    "\n",
    "ancova(data=data, dv='test_score', covar='current_grade', between='methodology')"
   ]
  },
  {
   "cell_type": "code",
   "execution_count": null,
   "id": "47aa8f8b-b51e-48c5-80fe-d50ac2487d34",
   "metadata": {},
   "outputs": [],
   "source": []
  }
 ],
 "metadata": {
  "kernelspec": {
   "display_name": "Python 3 (ipykernel)",
   "language": "python",
   "name": "python3"
  },
  "language_info": {
   "codemirror_mode": {
    "name": "ipython",
    "version": 3
   },
   "file_extension": ".py",
   "mimetype": "text/x-python",
   "name": "python",
   "nbconvert_exporter": "python",
   "pygments_lexer": "ipython3",
   "version": "3.10.9"
  }
 },
 "nbformat": 4,
 "nbformat_minor": 5
}
